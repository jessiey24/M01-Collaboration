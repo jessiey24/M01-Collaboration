{
 "cells": [
  {
   "cell_type": "code",
   "execution_count": 2,
   "id": "fe47668b",
   "metadata": {},
   "outputs": [],
   "source": [
    "def test_sum():\n",
    "    assert sum([1, 2, 3]) == 6, \"Should be 6\"\n",
    "\n",
    "test_sum()  # Calling the test function directly\n",
    "\n"
   ]
  },
  {
   "cell_type": "code",
   "execution_count": 5,
   "id": "087a2c37",
   "metadata": {},
   "outputs": [
    {
     "name": "stderr",
     "output_type": "stream",
     "text": [
      "'touch' is not recognized as an internal or external command,\n",
      "operable program or batch file.\n"
     ]
    }
   ],
   "source": [
    "# Create a new folder and an empty __init__.py file\n",
    "!mkdir my_sum\n",
    "!touch my_sum/__init__.py\n"
   ]
  },
  {
   "cell_type": "code",
   "execution_count": 6,
   "id": "faed217d",
   "metadata": {},
   "outputs": [],
   "source": [
    "# Open the my_sum/__init__.py file and define the sum() function\n",
    "with open(\"my_sum/__init__.py\", \"w\") as f:\n",
    "    f.write(\"\"\"\n",
    "def sum(arg):\n",
    "    total = 0\n",
    "    for val in arg:\n",
    "        total += val\n",
    "    return total\n",
    "\"\"\")\n"
   ]
  },
  {
   "cell_type": "code",
   "execution_count": 7,
   "id": "6690ac2b",
   "metadata": {},
   "outputs": [
    {
     "name": "stderr",
     "output_type": "stream",
     "text": [
      "'touch' is not recognized as an internal or external command,\n",
      "operable program or batch file.\n"
     ]
    }
   ],
   "source": [
    "# Create a test.py file above the my_sum folder\n",
    "!touch test.py\n"
   ]
  },
  {
   "cell_type": "code",
   "execution_count": 8,
   "id": "b016c2d1",
   "metadata": {},
   "outputs": [],
   "source": [
    "# Open the test.py file and write the test code\n",
    "with open(\"test.py\", \"w\") as f:\n",
    "    f.write(\"\"\"\n",
    "import unittest\n",
    "from my_sum import sum\n",
    "\n",
    "class TestSum(unittest.TestCase):\n",
    "    def test_list_int(self):\n",
    "        \\\"\\\"\\\"\n",
    "        Test that it can sum a list of integers\n",
    "        \\\"\\\"\\\"\n",
    "        data = [1, 2, 3]\n",
    "        result = sum(data)\n",
    "        self.assertEqual(result, 6)\n",
    "\n",
    "if __name__ == '__main__':\n",
    "    unittest.main()\n",
    "\"\"\")\n"
   ]
  },
  {
   "cell_type": "code",
   "execution_count": 9,
   "id": "ecb6b7de",
   "metadata": {},
   "outputs": [
    {
     "name": "stderr",
     "output_type": "stream",
     "text": [
      ".\n",
      "----------------------------------------------------------------------\n",
      "Ran 1 test in 0.000s\n",
      "\n",
      "OK\n"
     ]
    }
   ],
   "source": [
    "# Run the test\n",
    "!python test.py\n"
   ]
  },
  {
   "cell_type": "code",
   "execution_count": 10,
   "id": "e1165a88",
   "metadata": {},
   "outputs": [],
   "source": [
    "# Add an import statement to import the Fraction type from the fractions module\n",
    "from fractions import Fraction\n",
    "\n",
    "# Open the test.py file and add the new test with fractions\n",
    "with open(\"test.py\", \"a\") as f:\n",
    "    f.write(\"\"\"\n",
    "    def test_list_fraction(self):\n",
    "        \\\"\\\"\\\"\n",
    "        Test that it can sum a list of fractions\n",
    "        \\\"\\\"\\\"\n",
    "        data = [Fraction(1, 4), Fraction(1, 4), Fraction(2, 5)]\n",
    "        result = sum(data)\n",
    "        self.assertEqual(result, 1)\n",
    "    \"\"\")\n"
   ]
  }
 ],
 "metadata": {
  "kernelspec": {
   "display_name": "Python 3 (ipykernel)",
   "language": "python",
   "name": "python3"
  },
  "language_info": {
   "codemirror_mode": {
    "name": "ipython",
    "version": 3
   },
   "file_extension": ".py",
   "mimetype": "text/x-python",
   "name": "python",
   "nbconvert_exporter": "python",
   "pygments_lexer": "ipython3",
   "version": "3.11.5"
  }
 },
 "nbformat": 4,
 "nbformat_minor": 5
}
