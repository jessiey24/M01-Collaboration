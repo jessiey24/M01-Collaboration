{
 "cells": [
  {
   "cell_type": "code",
   "execution_count": 3,
   "id": "4e5f0190",
   "metadata": {},
   "outputs": [
    {
     "name": "stdout",
     "output_type": "stream",
     "text": [
      "Current Date (as string): 2024-02-23\n"
     ]
    }
   ],
   "source": [
    "from datetime import datetime\n",
    "\n",
    "# Get the current date as a string\n",
    "current_date_string = datetime.today().strftime('%Y-%m-%d')\n",
    "\n",
    "# Write to the file\n",
    "with open('today.txt', 'w') as file:\n",
    "    file.write(current_date_string)\n",
    "\n",
    "# Display the result\n",
    "print(f\"Current Date (as string): {current_date_string}\")"
   ]
  },
  {
   "cell_type": "code",
   "execution_count": 4,
   "id": "5fe9955a",
   "metadata": {},
   "outputs": [
    {
     "name": "stdout",
     "output_type": "stream",
     "text": [
      "Read from file (today_string): 2024-02-23\n"
     ]
    }
   ],
   "source": [
    "with open('today.txt', 'r') as file:\n",
    "    today_string = file.read()\n",
    "\n",
    "# Display the result\n",
    "print(f\"Read from file (today_string): {today_string}\")"
   ]
  },
  {
   "cell_type": "code",
   "execution_count": 5,
   "id": "a1c1827c",
   "metadata": {},
   "outputs": [
    {
     "name": "stdout",
     "output_type": "stream",
     "text": [
      "Parsed Date: 2024-02-23 00:00:00\n"
     ]
    }
   ],
   "source": [
    "parsed_date = datetime.strptime(today_string, '%Y-%m-%d')\n",
    "\n",
    "# Display the result\n",
    "print(f\"Parsed Date: {parsed_date}\")"
   ]
  },
  {
   "cell_type": "code",
   "execution_count": 6,
   "id": "0d3ba663",
   "metadata": {},
   "outputs": [
    {
     "name": "stdout",
     "output_type": "stream",
     "text": [
      "All processes have finished.\n"
     ]
    }
   ],
   "source": [
    "import multiprocessing\n",
    "import time\n",
    "from datetime import datetime\n",
    "from random import random\n",
    "\n",
    "def print_current_time():\n",
    "    # Wait for a random number of seconds between 0 and 1\n",
    "    sleep_time = random()\n",
    "    time.sleep(sleep_time)\n",
    "\n",
    "    # Print the current time\n",
    "    current_time = datetime.now().strftime('%Y-%m-%d %H:%M:%S')\n",
    "    print(f\"Process {multiprocessing.current_process().name}: Current Time - {current_time}\")\n",
    "\n",
    "if __name__ == \"__main__\":\n",
    "    # Create three separate processes\n",
    "    processes = [multiprocessing.Process(target=print_current_time, name=f\"Process-{i}\") for i in range(3)]\n",
    "\n",
    "    # Start each process\n",
    "    for process in processes:\n",
    "        process.start()\n",
    "\n",
    "    # Wait for all processes to finish\n",
    "    for process in processes:\n",
    "        process.join()\n",
    "\n",
    "    print(\"All processes have finished.\")"
   ]
  }
 ],
 "metadata": {
  "kernelspec": {
   "display_name": "Python 3 (ipykernel)",
   "language": "python",
   "name": "python3"
  },
  "language_info": {
   "codemirror_mode": {
    "name": "ipython",
    "version": 3
   },
   "file_extension": ".py",
   "mimetype": "text/x-python",
   "name": "python",
   "nbconvert_exporter": "python",
   "pygments_lexer": "ipython3",
   "version": "3.11.5"
  }
 },
 "nbformat": 4,
 "nbformat_minor": 5
}
