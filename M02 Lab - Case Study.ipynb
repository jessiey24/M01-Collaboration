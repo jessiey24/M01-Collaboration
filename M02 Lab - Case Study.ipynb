{
 "cells": [
  {
   "cell_type": "code",
   "execution_count": null,
   "id": "7b7eeb2f",
   "metadata": {},
   "outputs": [
    {
     "name": "stdout",
     "output_type": "stream",
     "text": [
      "Welcome to the Student Qualification App!\n",
      "Enter the student's last name (enter 'ZZZ' to quit): Smith\n",
      "Enter the student's first name: John\n",
      "Enter the student's GPA: 3.56\n",
      "John Smith has made the Dean's List!\n",
      "Enter the student's last name (enter 'ZZZ' to quit): Willow\n",
      "Enter the student's first name: Hannah\n",
      "Enter the student's GPA: 2.43\n",
      "Hannah Willow does not qualify for any special recognition.\n",
      "Enter the student's last name (enter 'ZZZ' to quit): Downy\n",
      "Enter the student's first name: Greg\n",
      "Enter the student's GPA: 1.93\n",
      "Greg Downy does not qualify for any special recognition.\n",
      "Enter the student's last name (enter 'ZZZ' to quit): Sanchez\n",
      "Enter the student's first name: Roberto\n",
      "Enter the student's GPA: 3.99\n",
      "Roberto Sanchez has made the Dean's List!\n",
      "Enter the student's last name (enter 'ZZZ' to quit): Rain\n",
      "Enter the student's first name: Meria\n",
      "Enter the student's GPA: 3.32\n",
      "Meria Rain has made the Honor Roll.\n"
     ]
    }
   ],
   "source": [
    "# Student Qualification App\n",
    "# Author: Jessica Rowles\n",
    "# File Name: student_qualification_app.py\n",
    "# Description: This app accepts student names and GPAs, tests if they qualify for the Dean's List or the Honor Roll,\n",
    "# and prints corresponding messages.\n",
    "\n",
    "def main():\n",
    "    print(\"Welcome to the Student Qualification App!\")\n",
    "\n",
    "    while True:\n",
    "        # Ask for and accept a student's last name\n",
    "        last_name = input(\"Enter the student's last name (enter 'ZZZ' to quit): \")\n",
    "        if last_name == 'ZZZ':\n",
    "            print(\"Exiting the program. Goodbye!\")\n",
    "            break\n",
    "\n",
    "        # Ask for and accept a student's first name\n",
    "        first_name = input(\"Enter the student's first name: \")\n",
    "\n",
    "        # Ask for and accept the student's GPA as a float\n",
    "        gpa = float(input(\"Enter the student's GPA: \"))\n",
    "\n",
    "        # Test if the student qualifies for the Dean's List or Honor Roll\n",
    "        if gpa >= 3.5:\n",
    "            print(f\"{first_name} {last_name} has made the Dean's List!\")\n",
    "        elif gpa >= 3.25:\n",
    "            print(f\"{first_name} {last_name} has made the Honor Roll.\")\n",
    "        else:\n",
    "            print(f\"{first_name} {last_name} does not qualify for any special recognition.\")\n",
    "\n",
    "# Test the app using at least five students\n",
    "if __name__ == \"__main__\":\n",
    "    for _ in range(5):\n",
    "        main()\n"
   ]
  },
  {
   "cell_type": "code",
   "execution_count": null,
   "id": "2fe1cdb1",
   "metadata": {},
   "outputs": [],
   "source": []
  }
 ],
 "metadata": {
  "kernelspec": {
   "display_name": "Python 3 (ipykernel)",
   "language": "python",
   "name": "python3"
  },
  "language_info": {
   "codemirror_mode": {
    "name": "ipython",
    "version": 3
   },
   "file_extension": ".py",
   "mimetype": "text/x-python",
   "name": "python",
   "nbconvert_exporter": "python",
   "pygments_lexer": "ipython3",
   "version": "3.11.5"
  }
 },
 "nbformat": 4,
 "nbformat_minor": 5
}
