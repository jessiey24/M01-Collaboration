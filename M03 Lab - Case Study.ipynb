{
 "cells": [
  {
   "cell_type": "code",
   "execution_count": 1,
   "id": "603ffba0",
   "metadata": {},
   "outputs": [
    {
     "name": "stdout",
     "output_type": "stream",
     "text": [
      "Vehicle Type: Car\n",
      "Year: 2022\n",
      "Make: Toyota\n",
      "Model: Camry\n",
      "Doors: 4\n",
      "Roof: Sun Roof\n"
     ]
    }
   ],
   "source": [
    "class Vehicle:\n",
    "    def __init__(self, vehicle_type):\n",
    "        self.vehicle_type = vehicle_type\n",
    "\n",
    "class Automobile(Vehicle):\n",
    "    def __init__(self, vehicle_type, year, make, model, doors, roof):\n",
    "        super().__init__(vehicle_type)\n",
    "        self.year = year\n",
    "        self.make = make\n",
    "        self.model = model\n",
    "        self.doors = doors\n",
    "        self.roof = roof\n",
    "\n",
    "# Example usage:\n",
    "if __name__ == \"__main__\":\n",
    "    # Creating an instance of the Automobile class\n",
    "    car = Automobile(vehicle_type=\"Car\", year=2022, make=\"Toyota\", model=\"Camry\", doors=4, roof=\"Sun Roof\")\n",
    "\n",
    "    # Accessing attributes\n",
    "    print(f\"Vehicle Type: {car.vehicle_type}\")\n",
    "    print(f\"Year: {car.year}\")\n",
    "    print(f\"Make: {car.make}\")\n",
    "    print(f\"Model: {car.model}\")\n",
    "    print(f\"Doors: {car.doors}\")\n",
    "    print(f\"Roof: {car.roof}\")\n"
   ]
  },
  {
   "cell_type": "code",
   "execution_count": 2,
   "id": "5fc407f0",
   "metadata": {},
   "outputs": [
    {
     "name": "stdout",
     "output_type": "stream",
     "text": [
      "Enter the vehicle type (e.g., car): truck\n",
      "Enter the year: 2012\n",
      "Enter the make: Ford\n",
      "Enter the model: F150\n",
      "Enter the number of doors (2 or 4): 4\n",
      "Enter the type of roof (solid or sun roof): solid\n",
      "\n",
      "Vehicle Information:\n",
      "  Vehicle Type: truck\n",
      "  Year: 2012\n",
      "  Make: Ford\n",
      "  Model: F150\n",
      "  Number of Doors: 4\n",
      "  Type of Roof: solid\n"
     ]
    }
   ],
   "source": [
    "class Vehicle:\n",
    "    def __init__(self, vehicle_type):\n",
    "        self.vehicle_type = vehicle_type\n",
    "\n",
    "class Automobile(Vehicle):\n",
    "    def __init__(self, vehicle_type, year, make, model, doors, roof):\n",
    "        super().__init__(vehicle_type)\n",
    "        self.year = year\n",
    "        self.make = make\n",
    "        self.model = model\n",
    "        self.doors = doors\n",
    "        self.roof = roof\n",
    "\n",
    "# Function to get user input for a car\n",
    "def get_car_input():\n",
    "    vehicle_type = input(\"Enter the vehicle type (e.g., car): \")\n",
    "    year = int(input(\"Enter the year: \"))\n",
    "    make = input(\"Enter the make: \")\n",
    "    model = input(\"Enter the model: \")\n",
    "    doors = int(input(\"Enter the number of doors (2 or 4): \"))\n",
    "    roof = input(\"Enter the type of roof (solid or sun roof): \")\n",
    "\n",
    "    return vehicle_type, year, make, model, doors, roof\n",
    "\n",
    "# Function to display car information\n",
    "def display_car_info(car):\n",
    "    print(\"\\nVehicle Information:\")\n",
    "    print(f\"  Vehicle Type: {car.vehicle_type}\")\n",
    "    print(f\"  Year: {car.year}\")\n",
    "    print(f\"  Make: {car.make}\")\n",
    "    print(f\"  Model: {car.model}\")\n",
    "    print(f\"  Number of Doors: {car.doors}\")\n",
    "    print(f\"  Type of Roof: {car.roof}\")\n",
    "\n",
    "if __name__ == \"__main__\":\n",
    "    # Get user input for a car\n",
    "    car_info = get_car_input()\n",
    "\n",
    "    # Create an instance of the Automobile class with user input\n",
    "    car = Automobile(*car_info)\n",
    "\n",
    "    # Display car information\n",
    "    display_car_info(car)\n"
   ]
  }
 ],
 "metadata": {
  "kernelspec": {
   "display_name": "Python 3 (ipykernel)",
   "language": "python",
   "name": "python3"
  },
  "language_info": {
   "codemirror_mode": {
    "name": "ipython",
    "version": 3
   },
   "file_extension": ".py",
   "mimetype": "text/x-python",
   "name": "python",
   "nbconvert_exporter": "python",
   "pygments_lexer": "ipython3",
   "version": "3.11.5"
  }
 },
 "nbformat": 4,
 "nbformat_minor": 5
}
